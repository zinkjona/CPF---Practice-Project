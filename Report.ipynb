{
 "cells": [
  {
   "cell_type": "markdown",
   "metadata": {},
   "source": [
    "# Practice Project Report\n",
    "**Name**: Jonas Zink\n",
    "**Date**: 26.03.2025"
   ]
  },
  {
   "cell_type": "markdown",
   "metadata": {},
   "source": [
    "## 1. Current Understanding of Central Topics and Tools\n",
    "\n",
    "Over the past week, I have focused on **asset management** concepts—specifically, how to construct and optimize portfolios using Python-based tools. I learned about:\n",
    "- **Mean-Variance Optimization**: Markowitz theory, risk-return trade-offs, and the efficient frontier.\n",
    "- **Rolling Window Backtests**: Practical code to evaluate out-of-sample performance and mitigate overfitting.\n",
    "- **Python Ecosystem**: Libraries like `pandas`, `numpy`, and `scipy.optimize` for data handling, analysis, and optimization.\n",
    "\n",
    "I feel comfortable now with setting up a basic backtesting pipeline and performing portfolio optimization in Python.\n"
   ]
  },
  {
   "cell_type": "markdown",
   "metadata": {},
   "source": [
    "## 2. Strengths and Weaknesses Discovered\n",
    "\n",
    "- **Strengths**: \n",
    "  - I find it relatively easy to code mathematical models in Python once the theory is clear.\n",
    "  - I can visualize results effectively using matplotlib and quickly debug issues.\n",
    "- **Weaknesses**:\n",
    "  - Sometimes I get stuck on library-specific details (e.g., advanced constraints in optimization).\n",
    "  - I need more practice with handling large data sets efficiently and with real-time data ingestion.\n",
    "\n",
    "---"
   ]
  },
  {
   "cell_type": "markdown",
   "metadata": {},
   "source": [
    "## 3. Experiences in Doing It on My Own\n",
    "\n",
    "Working independently was both challenging and rewarding. Setting up the environment (PyCharm, Jupyter Notebook) and pushing the code to GitHub tested my practical skills. Reading Hilpisch’s explanations gave me a solid theoretical background, but I still needed to experiment and debug on my own to fully grasp the concepts. This hands-on approach solidified my understanding of the material far more than just reading alone.\n",
    "\n",
    "---\n"
   ]
  },
  {
   "cell_type": "markdown",
   "metadata": {},
   "source": [
    "## 4. Opportunities to Improve the Existing Materials and Resources\n",
    "\n",
    "1. **More Examples**: I would appreciate more step-by-step code samples for advanced asset management scenarios, like constraints on leverage or sector exposure.\n",
    "2. **Extended Case Studies**: Real-world data sets (longer time horizons, multiple asset classes) would illustrate complexities like missing data, market regime shifts, etc.\n",
    "3. **Interactive Exercises**: Quizzes or short tasks could help reinforce learning.\n",
    "\n",
    "---"
   ]
  },
  {
   "cell_type": "markdown",
   "metadata": {},
   "source": [
    "## 5. Other Comments\n",
    "\n",
    "Overall, I found the combination of reading and implementing small practice projects extremely helpful. I’d love to see additional resources on:\n",
    "- Integrating alternative data sources (e.g., ESG data or factor-based approaches).\n",
    "- Deploying the final portfolio strategies on a cloud-based environment.\n",
    "\n",
    "Thank you for providing this learning opportunity!"
   ]
  }
 ],
 "metadata": {
  "kernelspec": {
   "display_name": "PROD_VENV",
   "language": "python",
   "name": "python3"
  },
  "language_info": {
   "codemirror_mode": {
    "name": "ipython",
    "version": 3
   },
   "file_extension": ".py",
   "mimetype": "text/x-python",
   "name": "python",
   "nbconvert_exporter": "python",
   "pygments_lexer": "ipython3",
   "version": "3.12.4"
  }
 },
 "nbformat": 4,
 "nbformat_minor": 2
}
